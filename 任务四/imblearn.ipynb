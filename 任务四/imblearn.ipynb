{
 "cells": [
  {
   "cell_type": "code",
   "execution_count": 2,
   "id": "2faacf58-3024-40fe-8b17-6911befa0163",
   "metadata": {},
   "outputs": [
    {
     "name": "stdout",
     "output_type": "stream",
     "text": [
      "采样前各类样本数量： [127  24]\n",
      "采样后各类样本数量： [127 127]\n"
     ]
    },
    {
     "name": "stderr",
     "output_type": "stream",
     "text": [
      "C:\\Users\\23087\\Anaconda3\\envs\\nlp_pqlpython=3.9\\lib\\site-packages\\sklearn\\base.py:474: FutureWarning: `BaseEstimator._validate_data` is deprecated in 1.6 and will be removed in 1.7. Use `sklearn.utils.validation.validate_data` instead. This function becomes public and is part of the scikit-learn developer API.\n",
      "  warnings.warn(\n"
     ]
    }
   ],
   "source": [
    "import numpy as np\n",
    "from imblearn.over_sampling import SMOTE\n",
    "from sklearn.datasets import make_classification\n",
    "\n",
    "# 模拟生成样本数据\n",
    "# 假设你已经有了特征矩阵 X 和对应的标签向量 y\n",
    "# 这里我们简单模拟一个样本不平衡的数据集\n",
    "X, y = make_classification(n_samples=151, n_features=10, n_informative=5,\n",
    "                           n_redundant=0, n_clusters_per_class=1,\n",
    "                           weights=[0.84, 0.16], random_state=42)\n",
    "\n",
    "# 初始化 SMOTE 类\n",
    "smote = SMOTE(random_state=42)\n",
    "\n",
    "# 进行过采样\n",
    "X_resampled, y_resampled = smote.fit_resample(X, y)\n",
    "\n",
    "# 打印采样前后的样本数量\n",
    "print(\"采样前各类样本数量：\", np.bincount(y))\n",
    "print(\"采样后各类样本数量：\", np.bincount(y_resampled))"
   ]
  },
  {
   "cell_type": "code",
   "execution_count": null,
   "id": "c504e0a9-3d0f-419a-886b-31999188de03",
   "metadata": {},
   "outputs": [],
   "source": []
  }
 ],
 "metadata": {
  "kernelspec": {
   "display_name": "Python 3 (ipykernel)",
   "language": "python",
   "name": "python3"
  },
  "language_info": {
   "codemirror_mode": {
    "name": "ipython",
    "version": 3
   },
   "file_extension": ".py",
   "mimetype": "text/x-python",
   "name": "python",
   "nbconvert_exporter": "python",
   "pygments_lexer": "ipython3",
   "version": "3.9.21"
  }
 },
 "nbformat": 4,
 "nbformat_minor": 5
}
