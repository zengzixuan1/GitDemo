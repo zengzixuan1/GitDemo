{
 "cells": [
  {
   "cell_type": "code",
   "execution_count": 3,
   "id": "bce66c9a-6f7a-414d-ac99-3d9e6ee20f2c",
   "metadata": {},
   "outputs": [
    {
     "name": "stdout",
     "output_type": "stream",
     "text": [
      "              precision    recall  f1-score   support\n",
      "\n",
      "           0       1.00      0.96      0.98        24\n",
      "           1       0.88      1.00      0.93         7\n",
      "\n",
      "    accuracy                           0.97        31\n",
      "   macro avg       0.94      0.98      0.96        31\n",
      "weighted avg       0.97      0.97      0.97        31\n",
      "\n"
     ]
    },
    {
     "name": "stderr",
     "output_type": "stream",
     "text": [
      "C:\\Users\\23087\\Anaconda3\\envs\\nlp_pqlpython=3.9\\lib\\site-packages\\sklearn\\base.py:474: FutureWarning: `BaseEstimator._validate_data` is deprecated in 1.6 and will be removed in 1.7. Use `sklearn.utils.validation.validate_data` instead. This function becomes public and is part of the scikit-learn developer API.\n",
      "  warnings.warn(\n"
     ]
    }
   ],
   "source": [
    "import numpy as np\n",
    "from imblearn.over_sampling import SMOTE\n",
    "from sklearn.datasets import make_classification\n",
    "from sklearn.model_selection import train_test_split\n",
    "from sklearn.linear_model import LogisticRegression\n",
    "from sklearn.metrics import classification_report\n",
    "\n",
    "# 模拟生成样本数据\n",
    "# 假设你已经有了特征矩阵 X 和对应的标签向量 y\n",
    "# 这里我们简单模拟一个样本不平衡的数据集\n",
    "X, y = make_classification(n_samples=151, n_features=10, n_informative=5,\n",
    "                           n_redundant=0, n_clusters_per_class=1,\n",
    "                           weights=[0.84, 0.16], random_state=42)\n",
    "\n",
    "# 划分训练集和测试集\n",
    "X_train, X_test, y_train, y_test = train_test_split(X, y, test_size=0.2, random_state=42)\n",
    "\n",
    "# 初始化 SMOTE 类\n",
    "smote = SMOTE(random_state=42)\n",
    "\n",
    "# 进行过采样\n",
    "X_train_resampled, y_train_resampled = smote.fit_resample(X_train, y_train)\n",
    "\n",
    "# 初始化逻辑回归模型\n",
    "model = LogisticRegression(random_state=42)\n",
    "\n",
    "# 在过采样后的数据上训练模型\n",
    "model.fit(X_train_resampled, y_train_resampled)\n",
    "\n",
    "# 进行预测\n",
    "y_pred = model.predict(X_test)\n",
    "\n",
    "# 输出分类评估报告\n",
    "report = classification_report(y_test, y_pred)\n",
    "print(report)"
   ]
  },
  {
   "cell_type": "code",
   "execution_count": null,
   "id": "d9d439d8-301d-494c-a89c-bb86a07e40a0",
   "metadata": {},
   "outputs": [],
   "source": []
  }
 ],
 "metadata": {
  "kernelspec": {
   "display_name": "Python 3 (ipykernel)",
   "language": "python",
   "name": "python3"
  },
  "language_info": {
   "codemirror_mode": {
    "name": "ipython",
    "version": 3
   },
   "file_extension": ".py",
   "mimetype": "text/x-python",
   "name": "python",
   "nbconvert_exporter": "python",
   "pygments_lexer": "ipython3",
   "version": "3.9.21"
  }
 },
 "nbformat": 4,
 "nbformat_minor": 5
}
